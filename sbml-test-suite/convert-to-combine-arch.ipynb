{
  "cells": [
    {
      "cell_type": "markdown",
      "source": [
        "<a id=\"begin\"></a>\n",
        "# Generating COMBINE Archives from the SBML Test Suite\n",
        "\n",
        "The [SBML test suite](http://sbml.org/Software/SBML_Test_Suite) is intended to test the accuracy SBML ODE simulators by providing a normative standard to compare simulation results to. The test suite predates SED-ML and specifies the simulation parameters in a custom format. However, recent versions include the SED-ML necessary to reproduce the simulations. Here, we provide an automated script to convert these test cases into COMBINE archives, which can be imported in Tellurium.\n",
        "\n",
        "This notebook is adapted from Stanley Gu's original [here](http://nbviewer.jupyter.org/github/stanleygu/sbmltest2archive/blob/master/create_archives.ipynb).\n",
        "\n",
        "This notebook contains two parts: converting the SBML test cases to COMBINE archives and running the simulations in the archives. To skip to running the simulations, click [here](#simulations).\n",
        "\n",
        "**Tip**: Double-click this cell to edit it.\n",
        "\n### Outstanding issues: cannot cd to notebook dir, need to figure out which cases to support by default."
      ],
      "metadata": {}
    },
    {
      "cell_type": "code",
      "source": [
        "import pprint\n"
      ],
      "outputs": [],
      "execution_count": 12,
      "metadata": {
        "collapsed": false,
        "outputHidden": false,
        "inputHidden": false
      }
    },
    {
      "cell_type": "code",
      "source": [
        "pp = pprint.PrettyPrinter()"
      ],
      "outputs": [],
      "execution_count": 13,
      "metadata": {
        "collapsed": false,
        "outputHidden": false,
        "inputHidden": false
      }
    },
    {
      "cell_type": "code",
      "source": [
        "pp."
      ],
      "outputs": [],
      "execution_count": null,
      "metadata": {
        "collapsed": false,
        "outputHidden": false,
        "inputHidden": false
      }
    },
    {
      "cell_type": "code",
      "source": [
        "import pprint, tellurium as te\n",
        "\n",
        "# level and version of SBML to use\n",
        "lv_string = 'l3v1'\n",
        "# subset of the cases to convert and/or run\n",
        "cases = te.getSupportedTestCases()\n",
        "print('Using the following cases:')\n",
        "pprint.PrettyPrinter().pprint(cases)\n",
        "# maximum cutoff for passing a test case (per-variable)\n",
        "max_threshold = 1e-3\n",
        "\n",
        "# change to the directory of this notebook\n",
        "%cd ~/devel/src/tellurium-combine-archive-test-cases/sbml-test-suite"
      ],
      "outputs": [],
      "execution_count": 16,
      "metadata": {
        "collapsed": false,
        "outputHidden": false,
        "inputHidden": false
      }
    },
    {
      "cell_type": "markdown",
      "source": [
        "<a id=\"simulations\"></a>\n",
        "## Step 6: Run all simulations in the COMBINE archives in Tellurium.\n",
        "\nThis runs the simulations in all COMBINE archives specified by the `cases` variable. By default, this will run all tests that Tellurium supports, which will take a **long** time. You can set the `cases` variable to a subset of tests at the [beginning](#begin) of this notebook."
      ],
      "metadata": {}
    },
    {
      "cell_type": "code",
      "source": [
        "import os, tellurium as te\n",
        "\n",
        "lv_archive_path = os.path.join('archives', lv_string)\n",
        "n_failures = 0\n",
        "n_successes = 0\n",
        "\n",
        "for case in cases:\n",
        "    archive_name = case+'.omex'\n",
        "    print('Running {}'.format(archive_name))\n",
        "    case_path = os.path.join(lv_archive_path, archive_name)\n",
        "    te.convertAndExecuteCombineArchive(case_path)\n",
        "    \n",
        "    # compare results\n",
        "    csv = te.extractFileFromCombineArchive(case_path, case+'-results.csv')\n",
        "    from io import StringIO\n",
        "    import pandas as pd\n",
        "    df = pd.read_csv(StringIO(csv))\n",
        "    report = te.getLastReport()\n",
        "    report = report.drop(report.shape[0]-1)\n",
        "    df.columns = report.columns\n",
        "    # difference between simulation and expected results\n",
        "    diff = report.subtract(df)\n",
        "    max_val = (diff**2).mean().max()\n",
        "    if max_val > max_threshold:\n",
        "        n_failures += 1\n",
        "    else:\n",
        "        n_successes += 1\n",
        "\nprint('Finished running tests: {} PASS, {} FAIL'.format(n_successes, n_failures))"
      ],
      "outputs": [],
      "execution_count": 11,
      "metadata": {
        "collapsed": false,
        "outputHidden": false,
        "inputHidden": false
      }
    },
    {
      "cell_type": "markdown",
      "source": [
        "## Step 2: Download the SBML test cases"
      ],
      "metadata": {}
    },
    {
      "cell_type": "code",
      "source": [
        "\n",
        "import os.path\n",
        "import platform\n",
        "\n",
        "if not platform.system() == 'Linux':\n",
        "    import urllib.request\n",
        "    # url for the test case archive \n",
        "    url = 'http://sourceforge.net/projects/sbml/files/test-suite/3.1.1/cases-archive/sbml-test-cases-2014-10-22.zip'\n",
        "\n",
        "    test_cases_filename = 'sbml-test-cases.zip'\n",
        "\n",
        "    # download the test case archive\n",
        "    with urllib.request.urlopen(url) as response, open(test_cases_filename, 'wb') as out_file:\n",
        "        out_file.write(response.read())\n",
        "else:\n",
        "    !wget http://sourceforge.net/projects/sbml/files/test-suite/3.1.1/cases-archive/sbml-test-cases-2014-10-22.zip\n",
        "    %mv sbml-test-cases-2014-10-22.zip sbml-test-cases.zip\n",
        "\nprint('Downloaded test case archive to {}'.format(os.path.abspath(test_cases_filename)))"
      ],
      "outputs": [
        {
          "output_type": "stream",
          "name": "stdout",
          "text": [
            "--2017-08-25 11:35:07--  http://sourceforge.net/projects/sbml/files/test-suite/3.1.1/cases-archive/sbml-test-cases-2014-10-22.zip\r\n",
            "Resolving sourceforge.net (sourceforge.net)... 216.34.181.60\r\n",
            "Connecting to sourceforge.net (sourceforge.net)|216.34.181.60|:80... connected.\r\n",
            "HTTP request sent, awaiting response... 301 Moved Permanently\r\n",
            "Location: https://sourceforge.net/projects/sbml/files/test-suite/3.1.1/cases-archive/sbml-test-cases-2014-10-22.zip [following]\r\n",
            "--2017-08-25 11:35:07--  https://sourceforge.net/projects/sbml/files/test-suite/3.1.1/cases-archive/sbml-test-cases-2014-10-22.zip\r\n",
            "Connecting to sourceforge.net (sourceforge.net)|216.34.181.60|:443... connected.\r\n",
            "HTTP request sent, awaiting response... 302 Found\r\n",
            "Location: https://sourceforge.net/projects/sbml/files/test-suite/3.1.1/cases-archive/sbml-test-cases-2014-10-22.zip/download [following]\r\n",
            "--2017-08-25 11:35:08--  https://sourceforge.net/projects/sbml/files/test-suite/3.1.1/cases-archive/sbml-test-cases-2014-10-22.zip/download\r\n",
            "Connecting to sourceforge.net (sourceforge.net)|216.34.181.60|:443... connected.\r\n",
            "HTTP request sent, awaiting response... 302 Found\r\n",
            "Location: https://downloads.sourceforge.net/project/sbml/test-suite/3.1.1/cases-archive/sbml-test-cases-2014-10-22.zip?r=&ts=1503686108&use_mirror=ayera [following]\r\n",
            "--2017-08-25 11:35:08--  https://downloads.sourceforge.net/project/sbml/test-suite/3.1.1/cases-archive/sbml-test-cases-2014-10-22.zip?r=&ts=1503686108&use_mirror=ayera\r\n",
            "Resolving downloads.sourceforge.net (downloads.sourceforge.net)... 216.34.181.59\r\n",
            "Connecting to downloads.sourceforge.net (downloads.sourceforge.net)|216.34.181.59|:443... connected.\r\n",
            "HTTP request sent, awaiting response... 302 Found\r\n",
            "Location: https://ayera.dl.sourceforge.net/project/sbml/test-suite/3.1.1/cases-archive/sbml-test-cases-2014-10-22.zip [following]\r\n",
            "--2017-08-25 11:35:09--  https://ayera.dl.sourceforge.net/project/sbml/test-suite/3.1.1/cases-archive/sbml-test-cases-2014-10-22.zip\r\n",
            "Resolving ayera.dl.sourceforge.net (ayera.dl.sourceforge.net)... 172.110.242.68, 2607:fa38:0:fe:6563:4fc1:ac91:ea86\r\n",
            "Connecting to ayera.dl.sourceforge.net (ayera.dl.sourceforge.net)|172.110.242.68|:443... connected.\r\n",
            "HTTP request sent, awaiting response... 200 OK\r\n",
            "Length: 42842990 (41M) [application/octet-stream]\r\n",
            "Saving to: 'sbml-test-cases-2014-10-22.zip'\r\n",
            "\r\n\rsbml-test-cases-201   0%[                      ]       0  --.-KB/s             \rbml-test-cases-2014   0%[                      ] 327.76K  1.59MB/s             \rml-test-cases-2014-   5%[>                     ]   2.35M  5.85MB/s             \rl-test-cases-2014-1  11%[=>                    ]   4.60M  7.63MB/s             \r-test-cases-2014-10  16%[==>                   ]   6.85M  8.52MB/s             \rtest-cases-2014-10-  22%[===>                  ]   9.10M  9.06MB/s             \rest-cases-2014-10-2  27%[=====>                ]  11.25M  9.34MB/s             \rst-cases-2014-10-22  33%[======>               ]  13.58M  9.67MB/s             \rt-cases-2014-10-22.  38%[=======>              ]  15.83M  9.86MB/s             \r-cases-2014-10-22.z  44%[========>             ]  18.08M  10.0MB/s             \rcases-2014-10-22.zi  49%[=========>            ]  20.33M  10.1MB/s             \rases-2014-10-22.zip  55%[===========>          ]  22.58M  10.2MB/s             \rsbml-test-cases-201  60%[============>         ]  24.83M  10.3MB/s             \rbml-test-cases-2014  66%[=============>        ]  27.08M  10.4MB/s             \rml-test-cases-2014-  71%[==============>       ]  29.33M  10.4MB/s             \rl-test-cases-2014-1  77%[================>     ]  31.58M  10.5MB/s   eta 1s    \r-test-cases-2014-10  82%[=================>    ]  33.83M  11.0MB/s   eta 1s    \rtest-cases-2014-10-  88%[==================>   ]  36.08M  11.2MB/s   eta 1s    \rest-cases-2014-10-2  93%[===================>  ]  38.33M  11.2MB/s   eta 1s    \rst-cases-2014-10-22  99%[====================> ]  40.58M  11.2MB/s   eta 1s    \r",
            "sbml-test-cases-201 100%[=====================>]  40.86M  11.2MB/s   in 3.8s   \r\n",
            "\r\n",
            "2017-08-25 11:35:15 (10.6 MB/s) - 'sbml-test-cases-2014-10-22.zip' saved [42842990/42842990]\r\n",
            "\r\n",
            "Downloaded test case archive to /home/poltergeist/devel/src/tellurium-combine-archive-test-cases/sbml-test-suite/sbml-test-cases.zip\n"
          ]
        }
      ],
      "execution_count": 17,
      "metadata": {
        "collapsed": false,
        "outputHidden": false,
        "inputHidden": false
      }
    },
    {
      "cell_type": "markdown",
      "source": [
        "## Step 3: Extract the Test Case Archive"
      ],
      "metadata": {}
    },
    {
      "cell_type": "code",
      "source": [
        "import os, errno, zipfile\n",
        "\n",
        "# extract to 'archives' directory\n",
        "with zipfile.ZipFile(test_cases_filename) as z:\n",
        "    z.extractall('.')\n",
        "    \n",
        "print('Extracted test cases to {}'.format(os.path.abspath('.')))"
      ],
      "outputs": [
        {
          "output_type": "stream",
          "name": "stdout",
          "text": [
            "Extracted test cases to /home/poltergeist/devel/src/tellurium-combine-archive-test-cases/sbml-test-suite\n"
          ]
        }
      ],
      "execution_count": 18,
      "metadata": {
        "collapsed": false,
        "outputHidden": false,
        "inputHidden": false
      }
    },
    {
      "cell_type": "markdown",
      "source": [
        "## Step 5: Create COMBINE Archives\n",
        "\n",
        "Here, we create COMBINE archives for SBML Level 3 Version 1. We could package all levels and versions in the same COMBINE archive, but this would drastically increase simulation time.\n",
        "\nFirst, we will set the level and version used to pick out only L3V1 SBML test cases (all SED-ML in this example is L1V1):"
      ],
      "metadata": {}
    },
    {
      "cell_type": "markdown",
      "source": [
        "Next, we create the directory structure for the archives"
      ],
      "metadata": {}
    },
    {
      "cell_type": "code",
      "source": [
        "# create a function to make a new directory if it doesn't already exist\n",
        "def mkdirp(path):\n",
        "    try:\n",
        "        os.makedirs(path)\n",
        "    except OSError as exc:\n",
        "        if exc.errno == errno.EEXIST and os.path.isdir(path):\n",
        "            pass\n",
        "        else:\n",
        "            raise\n",
        "\n",
        "# make a new directory for this level and version if it doesn't already exist\n",
        "lv_archive_path = os.path.join('archives', lv_string)\n",
        "mkdirp(lv_archive_path)\n",
        "\nprint('Created directory {}'.format(lv_archive_path))"
      ],
      "outputs": [
        {
          "output_type": "stream",
          "name": "stdout",
          "text": [
            "Created directory archives/l3v1\n"
          ]
        }
      ],
      "execution_count": 19,
      "metadata": {
        "collapsed": false,
        "outputHidden": false,
        "inputHidden": false
      }
    },
    {
      "cell_type": "markdown",
      "source": [
        "## Step 6: Create the archives by including SBML, SED-ML, and results files."
      ],
      "metadata": {}
    },
    {
      "cell_type": "code",
      "source": [
        "import re\n",
        "from xml.dom import minidom\n",
        "import xml.etree.ElementTree as ET\n",
        "\n",
        "n_archives_written = 0\n",
        "\n",
        "for case in cases:\n",
        "    test_case_path = os.path.join('cases', 'semantic', case)\n",
        "    ls = os.listdir(test_case_path)\n",
        "    # Only L3V1:\n",
        "    regex_sbml = re.compile(case + r'-sbml-{}\\.xml'.format(lv_string), re.IGNORECASE)\n",
        "    regex_sedml = re.compile(case + r'-sbml-{}-sedml\\.xml'.format(lv_string), re.IGNORECASE)\n",
        "    regex_csv = re.compile(case + r'-results\\.csv$', re.IGNORECASE)\n",
        "    # All levels/versions:\n",
        "    # regex_sbml = re.compile(case + '-sbml-l\\dv\\d\\.xml', re.IGNORECASE)\n",
        "    # regex_sedml = re.compile(case + '-sbml-l\\dv\\d\\-sedml.xml', re.IGNORECASE)\n",
        "\n",
        "    sbmlfiles = sorted([file for file in ls if regex_sbml.search(file)])\n",
        "    sedmlfiles = sorted([file for file in ls if regex_sedml.search(file)])\n",
        "    csvfiles = sorted([file for file in ls if regex_csv.search(file)])\n",
        "    plot_file = [file for file in ls if 'plot.jpg' in file][0]\n",
        "\n",
        "    ET.register_namespace('', 'http://identifiers.org/combine.specifications/omex-manifest')\n",
        "    manifest_template = '''<?xml version=\"1.0\" encoding=\"UTF-8\"?>\n",
        "    <omexManifest\n",
        "        xmlns=\"http://identifiers.org/combine.specifications/omex-manifest\"\n",
        "        xmlns:xsi=\"http://www.w3.org/2001/XMLSchema-instance\"\n",
        "        xsi:schemaLocation=\"http://identifiers.org/combine.specifications/omex-manifest combine.xsd \"></omexManifest>\n",
        "    '''\n",
        "\n",
        "    doc = ET.fromstring(manifest_template)\n",
        "    manifest = ET.SubElement(doc, 'content')\n",
        "    manifest.attrib['format'] = 'http://identifiers.org/combine.specifications/omex-manifest'\n",
        "    manifest.attrib['location'] = './manifest.xml'\n",
        "\n",
        "    for sbmlfile in sbmlfiles:\n",
        "        model = ET.SubElement(doc, 'content')\n",
        "        model.attrib['format'] = 'http://identifiers.org/combine.specifications/sbml'\n",
        "        model.attrib['location'] = './' + sbmlfile\n",
        "\n",
        "    for sedmlfile in sedmlfiles:\n",
        "        sedml = ET.SubElement(doc, 'content')\n",
        "        sedml.attrib['format'] = 'http://identifiers.org/combine.specifications/sed-ml.level-1.version-1'\n",
        "        sedml.attrib['location'] = './' + sedmlfile\n",
        "        sedml.attrib['master'] = 'true'\n",
        "\n",
        "    for csvfile in csvfiles:\n",
        "        csv = ET.SubElement(doc, 'content')\n",
        "        csv.attrib['format'] = 'http://identifiers.org/combine.specifications/csv'\n",
        "        csv.attrib['location'] = './' + csvfile\n",
        "        \n",
        "    archive_files = sbmlfiles + sedmlfiles + csvfiles\n",
        "\n",
        "    xml_str = ET.tostring(doc, encoding='UTF-8')\n",
        "    # reparse the xml string to pretty print it\n",
        "    reparsed = minidom.parseString(xml_str)\n",
        "    pretty_xml_str = reparsed.toprettyxml(indent=\"    \")\n",
        "\n",
        "    # use zipfile to create Combine archive containing\n",
        "    from zipfile import ZipFile\n",
        "    archive_name = case + '.omex'\n",
        "    archive_path = os.path.join('archives', lv_string, archive_name)\n",
        "    initial_wd = os.getcwd()\n",
        "    ls = os.listdir(test_case_path)\n",
        "    with ZipFile(archive_path, 'w') as archive:\n",
        "        # write the manifest\n",
        "        archive.writestr('manifest.xml', pretty_xml_str.encode('utf-8'))\n",
        "        os.chdir(test_case_path)\n",
        "        for f in archive_files:\n",
        "            archive.write(f)\n",
        "\n",
        "    os.chdir(initial_wd)\n",
        "    \n",
        "    # print the number of contained files (add +1 for the manifest)\n",
        "    print('Created {} (containing {} files)'.format(archive_path, 1+len(archive_files)))\n",
        "    \n",
        "    n_archives_written += 1\n",
        "\nprint('Finished writing archives ({} total archives written)'.format(n_archives_written))"
      ],
      "outputs": [],
      "execution_count": 21,
      "metadata": {
        "collapsed": false,
        "outputHidden": false,
        "inputHidden": false
      }
    }
  ],
  "metadata": {
    "kernelspec": {
      "name": "python3",
      "language": "python",
      "display_name": "Python 3"
    },
    "kernel_info": {
      "name": "python3"
    },
    "language_info": {
      "name": "python",
      "version": "3.6.1",
      "mimetype": "text/x-python",
      "codemirror_mode": {
        "name": "ipython",
        "version": 3
      },
      "pygments_lexer": "ipython3",
      "nbconvert_exporter": "python",
      "file_extension": ".py"
    }
  },
  "nbformat": 4,
  "nbformat_minor": 4
}